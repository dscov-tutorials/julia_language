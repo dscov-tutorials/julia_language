{
 "cells": [
  {
   "cell_type": "markdown",
   "metadata": {
    "slideshow": {
     "slide_type": "slide"
    }
   },
   "source": [
    "# <center> Solving the Two-Language Problem with Julia </center>\n",
    "\n",
    "### <center> Paul Stey, Ph.D. </center>\n",
    "### <center> Brown University</center>\n",
    "### <center> Center for Computation \\& Visualization</center>\n",
    "\n",
    "### <center> 2019-05-30 </center>"
   ]
  },
  {
   "cell_type": "markdown",
   "metadata": {
    "slideshow": {
     "slide_type": "slide"
    }
   },
   "source": [
    "## Outline \n",
    "\n",
    "1. The Two-Language Problem\n",
    "2. Speed & Parallelism\n",
    "3. Type System and Multiple Dispatch\n",
    "4. Profiling and Introspection\n",
    "5. Integrations with other Languages\n",
    "6. Tooling and Package Ecosystem"
   ]
  },
  {
   "cell_type": "markdown",
   "metadata": {
    "slideshow": {
     "slide_type": "subslide"
    }
   },
   "source": [
    "## Two-Language Problem\n",
    "  - Dynamic languages (e.g., Python, R, Matlab) tend to be slow\n",
    "  - Lower-level, compiled languages (e.g., C, C++, Fortran) are very fast, but are more time-consuming to write and debug "
   ]
  },
  {
   "cell_type": "markdown",
   "metadata": {
    "slideshow": {
     "slide_type": "subslide"
    }
   },
   "source": [
    " ## The Standard Approach \n",
    "   - Write core algorithms in lower-level language\n",
    "   - Then wrap that in higher-level language using some interface language/package (e.g., Cython, Rcpp)"
   ]
  },
  {
   "cell_type": "markdown",
   "metadata": {
    "slideshow": {
     "slide_type": "subslide"
    }
   },
   "source": [
    "## What's the Problem?\n",
    "  1. Higher barrier to entry for package authors\n",
    "  2. Package authors must know (at least) two languages\n",
    "  3. Creates a sharp divide between package authors and package users"
   ]
  },
  {
   "cell_type": "markdown",
   "metadata": {
    "slideshow": {
     "slide_type": "slide"
    }
   },
   "source": [
    "# <center> Meet Julia! </center>\n",
    "\n",
    "\n"
   ]
  },
  {
   "cell_type": "markdown",
   "metadata": {
    "slideshow": {
     "slide_type": "subslide"
    }
   },
   "source": [
    "## Julia is:\n",
    "1. Dynamic technical computing lanugage\n",
    "2. Multi-paradigm (functional, imperative, \"OO\"-ish)\n",
    "3. Just-in-time compiled using LLVM\n",
    "4. Under active development (current stable version: 1.1.1)\n",
    "5. Fast!\n",
    "6. Fun!"
   ]
  },
  {
   "cell_type": "markdown",
   "metadata": {
    "slideshow": {
     "slide_type": "subslide"
    }
   },
   "source": [
    "## History of Julia\n",
    "\n",
    "* Started in 2009 as PhD thesis of Jeff Bezanson at MIT\n",
    "* Jeff has been collaborating with Stefan Karpinski and Viral Shah\n",
    "* First official release in 2012\n",
    "* Influenced by: C, Python, R, Ruby, Lisp\n",
    "* Specifically designed to be as fast as C and as expressive as Python or Ruby"
   ]
  },
  {
   "cell_type": "markdown",
   "metadata": {
    "slideshow": {
     "slide_type": "subslide"
    }
   },
   "source": [
    "## Julia Basics\n",
    "- Similar to Python and R in that:\n",
    "  * Very flexible\n",
    "  * Has elements of imperative, functional, and object-oriented programming\n",
    "  * Functions are first-class citizens \n",
    "    + (e.g., pass as arguments, return from other functions)\n",
    " \n"
   ]
  },
  {
   "cell_type": "markdown",
   "metadata": {
    "slideshow": {
     "slide_type": "subslide"
    }
   },
   "source": [
    "## Julia Basics (cont.)\n",
    "- Differs from Python and R in that:\n",
    "  * Compiled, not interpretted\n",
    "  * Not object-oriented in the classical sense\n",
    "  * No classes with private data and private methods\n",
    "  * No concept of inheritence\n",
    "  * Designed with parallelism in mind\n",
    "  * Multiple dispatch\n",
    "  * Excellent for generic programming\n",
    "  * Metaprogramming"
   ]
  },
  {
   "cell_type": "markdown",
   "metadata": {
    "slideshow": {
     "slide_type": "subslide"
    }
   },
   "source": [
    "## Base Language Data Types\n",
    "\n",
    "1. Primitives\n",
    "  * Any numeric type you can imagine: `Int64`, `Float64`, `BigInt`, `Complex`, `Irrational`, `Rational`\n",
    "  * Many abstract types: `Any`, `Real`, `Number`, `Integer`\n",
    "  * `String` and `Chars`\n",
    "2. Container Types\n",
    "  * `Array` (vectors, matrices, _N_-dimensional arrays)\n",
    "  * `Set`\n",
    "  * `Dict`\n",
    "  * `Tuple` and `NamedTuple`\n",
    "3. Composite Types\n",
    "  * `struct`"
   ]
  },
  {
   "cell_type": "code",
   "execution_count": 85,
   "metadata": {
    "slideshow": {
     "slide_type": "subslide"
    }
   },
   "outputs": [
    {
     "data": {
      "text/plain": [
       "fib (generic function with 1 method)"
      ]
     },
     "execution_count": 85,
     "metadata": {},
     "output_type": "execute_result"
    }
   ],
   "source": [
    "# Simple function that computes Fibonacci numbers\n",
    "\n",
    "function fib(n)\n",
    "    nums = ones(Int, n)\n",
    "    for i = 3:n\n",
    "        nums[i] = nums[i - 1] + nums[i - 2]\n",
    "    end \n",
    "    return nums[n]\n",
    "end     "
   ]
  },
  {
   "cell_type": "code",
   "execution_count": 86,
   "metadata": {},
   "outputs": [
    {
     "data": {
      "text/plain": [
       "832040"
      ]
     },
     "execution_count": 86,
     "metadata": {},
     "output_type": "execute_result"
    }
   ],
   "source": [
    "fib(30)"
   ]
  },
  {
   "cell_type": "markdown",
   "metadata": {
    "slideshow": {
     "slide_type": "slide"
    }
   },
   "source": [
    "# <center> Julia is Fast! </center>"
   ]
  },
  {
   "cell_type": "code",
   "execution_count": 88,
   "metadata": {
    "slideshow": {
     "slide_type": "subslide"
    }
   },
   "outputs": [
    {
     "data": {
      "text/plain": [
       "qsort (generic function with 1 method)"
      ]
     },
     "execution_count": 88,
     "metadata": {},
     "output_type": "execute_result"
    }
   ],
   "source": [
    "function qsort(a, lo, hi)\n",
    "    i = lo\n",
    "    j = hi\n",
    "    while i < hi\n",
    "        pivot = a[div(lo + hi, 2)]\n",
    "        while i <= j\n",
    "            while a[i] < pivot\n",
    "                i += 1\n",
    "            end\n",
    "            while a[j] > pivot\n",
    "                j -= 1\n",
    "            end\n",
    "            if i <= j\n",
    "                a[i], a[j] = a[j], a[i]\n",
    "                i += 1\n",
    "                j -= 1\n",
    "            end \n",
    "        end\n",
    "        if lo < j\n",
    "            qsort(a, lo, j)\n",
    "        end\n",
    "        lo = i\n",
    "        j = hi\n",
    "    end \n",
    "    return a\n",
    "end "
   ]
  },
  {
   "cell_type": "markdown",
   "metadata": {
    "slideshow": {
     "slide_type": "subslide"
    }
   },
   "source": [
    "### <center>Python `quicksort` example</center>"
   ]
  },
  {
   "cell_type": "code",
   "execution_count": 90,
   "metadata": {
    "slideshow": {
     "slide_type": "subslide"
    }
   },
   "outputs": [
    {
     "name": "stdout",
     "output_type": "stream",
     "text": [
      "  0.091415 seconds (4 allocations: 160 bytes)\n"
     ]
    }
   ],
   "source": [
    "# quick sort in Julia\n",
    "\n",
    "n = 1_000_000\n",
    "x = rand(n)\n",
    "\n",
    "@time x2 = qsort(x, 1, n);"
   ]
  },
  {
   "cell_type": "markdown",
   "metadata": {
    "slideshow": {
     "slide_type": "subslide"
    }
   },
   "source": [
    "## Understanding Julia's Speed\n",
    "\n",
    "1. Type system makes inferring concrete types easy\n",
    "2. Julia aggressively specializes run-time types\n",
    "3. LLVM generates fast native code\n",
    "4. Very smart people working hard!"
   ]
  },
  {
   "cell_type": "markdown",
   "metadata": {
    "slideshow": {
     "slide_type": "slide"
    }
   },
   "source": [
    "# <center> Parrallelism in Julia </center>"
   ]
  },
  {
   "cell_type": "markdown",
   "metadata": {
    "slideshow": {
     "slide_type": "subslide"
    }
   },
   "source": [
    "## Parallel Programming in Julia\n",
    "\n",
    "1. Can use multi-processing or multi-threading\n",
    "2. Multi-threading works using \"green threads\"\n",
    "3. Excellent support for SIMD operations \n",
    "4. `SharedArray` data type in base language\n",
    "3. `DistributedArray` data structure allows for Hadoop-like distributed computing"
   ]
  },
  {
   "cell_type": "code",
   "execution_count": 91,
   "metadata": {
    "slideshow": {
     "slide_type": "subslide"
    }
   },
   "outputs": [
    {
     "data": {
      "text/plain": [
       "monte_carlo_pi (generic function with 1 method)"
      ]
     },
     "execution_count": 91,
     "metadata": {},
     "output_type": "execute_result"
    }
   ],
   "source": [
    "# Parallel processing with @distributed \n",
    "using Distributed \n",
    "\n",
    "addprocs(5)                 \n",
    "\n",
    "function monte_carlo_pi(n_iter)\n",
    "    num_inside = @distributed (+) for i = 1:n_iter\n",
    "        Int(rand()^2 + rand()^2 ≤ 1)\n",
    "    end\n",
    "    res = num_inside/(n_iter/4)\n",
    "    return res\n",
    "end "
   ]
  },
  {
   "cell_type": "code",
   "execution_count": 94,
   "metadata": {
    "slideshow": {
     "slide_type": "-"
    }
   },
   "outputs": [
    {
     "name": "stdout",
     "output_type": "stream",
     "text": [
      "  0.057521 seconds (973 allocations: 42.188 KiB)\n"
     ]
    },
    {
     "data": {
      "text/plain": [
       "3.14155996"
      ]
     },
     "execution_count": 94,
     "metadata": {},
     "output_type": "execute_result"
    }
   ],
   "source": [
    "@time monte_carlo_pi(100_000_000)"
   ]
  },
  {
   "cell_type": "markdown",
   "metadata": {
    "slideshow": {
     "slide_type": "subslide"
    }
   },
   "source": [
    "Suppose we want to constrain range of values a vector's elements can take to be between -0.5 and 0.5"
   ]
  },
  {
   "cell_type": "code",
   "execution_count": 95,
   "metadata": {
    "slideshow": {
     "slide_type": "-"
    }
   },
   "outputs": [
    {
     "data": {
      "text/plain": [
       "squeeze_range! (generic function with 1 method)"
      ]
     },
     "execution_count": 95,
     "metadata": {},
     "output_type": "execute_result"
    }
   ],
   "source": [
    "function squeeze_range!(x)\n",
    "    n = length(x)\n",
    "    for i = 1:n \n",
    "        if !(-0.5 ≤ x[i] ≤ 0.5) \n",
    "            x[i] = 0.5 * sign(x[i])\n",
    "        end \n",
    "    end \n",
    "end\n"
   ]
  },
  {
   "cell_type": "code",
   "execution_count": 97,
   "metadata": {
    "slideshow": {
     "slide_type": "-"
    }
   },
   "outputs": [
    {
     "name": "stdout",
     "output_type": "stream",
     "text": [
      "  0.507550 seconds (4 allocations: 160 bytes)\n"
     ]
    }
   ],
   "source": [
    "n = 100_000_000\n",
    "v = randn(n)\n",
    "\n",
    "@time squeeze_range!(v)"
   ]
  },
  {
   "cell_type": "markdown",
   "metadata": {
    "slideshow": {
     "slide_type": "subslide"
    }
   },
   "source": [
    "### Using `SharedArrays` for Parrallelism"
   ]
  },
  {
   "cell_type": "code",
   "execution_count": 98,
   "metadata": {
    "slideshow": {
     "slide_type": "-"
    }
   },
   "outputs": [
    {
     "data": {
      "text/plain": [
       "shr_squeeze_range (generic function with 1 method)"
      ]
     },
     "execution_count": 98,
     "metadata": {},
     "output_type": "execute_result"
    }
   ],
   "source": [
    "#  Modify input value to be between -0.5 and 0.5\n",
    "using SharedArrays\n",
    "\n",
    "function shr_squeeze_range(x)\n",
    "    n = length(x)\n",
    "    @sync @distributed for i = 1:n \n",
    "        if !(-0.5 ≤ x[i] ≤ 0.5) \n",
    "            x[i] = 0.5 * sign(x[i])\n",
    "        end \n",
    "    end \n",
    "end"
   ]
  },
  {
   "cell_type": "code",
   "execution_count": 100,
   "metadata": {
    "slideshow": {
     "slide_type": "-"
    }
   },
   "outputs": [
    {
     "name": "stdout",
     "output_type": "stream",
     "text": [
      "  0.115931 seconds (1.65 k allocations: 79.719 KiB)\n"
     ]
    }
   ],
   "source": [
    "n = 100_000_000\n",
    "v = SharedArray(randn(n))\n",
    "\n",
    "@time shr_squeeze_range(v);"
   ]
  },
  {
   "cell_type": "markdown",
   "metadata": {
    "slideshow": {
     "slide_type": "subslide"
    }
   },
   "source": [
    "### Using Threads for Parallelism"
   ]
  },
  {
   "cell_type": "code",
   "execution_count": 101,
   "metadata": {
    "slideshow": {
     "slide_type": "-"
    }
   },
   "outputs": [
    {
     "data": {
      "text/plain": [
       "thr_squeeze_range! (generic function with 1 method)"
      ]
     },
     "execution_count": 101,
     "metadata": {},
     "output_type": "execute_result"
    }
   ],
   "source": [
    "# NOTE: JULIA_NUM_THREADS env variable is set in .bash_profile\n",
    "using Base.Threads\n",
    "\n",
    "function thr_squeeze_range!(x)\n",
    "    n = length(x)\n",
    "    @threads for i = 1:n \n",
    "        if !(-0.5 ≤ x[i] ≤ 0.5) \n",
    "            x[i] = 0.5 * sign(x[i])\n",
    "        end \n",
    "    end \n",
    "end"
   ]
  },
  {
   "cell_type": "code",
   "execution_count": 103,
   "metadata": {
    "slideshow": {
     "slide_type": "-"
    }
   },
   "outputs": [
    {
     "name": "stdout",
     "output_type": "stream",
     "text": [
      "  0.102906 seconds (5 allocations: 192 bytes)\n"
     ]
    }
   ],
   "source": [
    "n = 100_000_000\n",
    "v = randn(n)\n",
    "\n",
    "@time thr_squeeze_range!(v)"
   ]
  },
  {
   "cell_type": "markdown",
   "metadata": {
    "slideshow": {
     "slide_type": "slide"
    }
   },
   "source": [
    "# <center> Julia's Type System </center>"
   ]
  },
  {
   "cell_type": "markdown",
   "metadata": {
    "slideshow": {
     "slide_type": "subslide"
    }
   },
   "source": [
    "## Julia's Type System \n",
    "1. Dynamic\n",
    "2. Parametric\n",
    "3. Nominative"
   ]
  },
  {
   "cell_type": "markdown",
   "metadata": {
    "slideshow": {
     "slide_type": "subslide"
    }
   },
   "source": [
    "## Julia Types:\n",
    "1. Every object has a type (e.g., `Int`, `Float64`, `Dict`, `Function`)\n",
    "2. User-defined types behave just like base language types\n",
    "3. Types (and functions) are parametric \n",
    "4. Type annotation can (optionally) be added and can improve performance"
   ]
  },
  {
   "cell_type": "markdown",
   "metadata": {
    "slideshow": {
     "slide_type": "subslide"
    }
   },
   "source": [
    "### Illustrating Multiple Dispatch"
   ]
  },
  {
   "cell_type": "code",
   "execution_count": 104,
   "metadata": {},
   "outputs": [
    {
     "data": {
      "text/plain": [
       "foo (generic function with 2 methods)"
      ]
     },
     "execution_count": 104,
     "metadata": {},
     "output_type": "execute_result"
    }
   ],
   "source": [
    "function foo(a::Int, b::Int) \n",
    "    println(\"I'm adding ints. Yay!!\")\n",
    "    res = a + b\n",
    "    return res\n",
    "end "
   ]
  },
  {
   "cell_type": "code",
   "execution_count": 105,
   "metadata": {},
   "outputs": [
    {
     "name": "stdout",
     "output_type": "stream",
     "text": [
      "I'm adding ints. Yay!!\n"
     ]
    },
    {
     "data": {
      "text/plain": [
       "4"
      ]
     },
     "execution_count": 105,
     "metadata": {},
     "output_type": "execute_result"
    }
   ],
   "source": [
    "foo(3, 1)"
   ]
  },
  {
   "cell_type": "code",
   "execution_count": 106,
   "metadata": {
    "slideshow": {
     "slide_type": "subslide"
    }
   },
   "outputs": [
    {
     "data": {
      "text/plain": [
       "foo (generic function with 2 methods)"
      ]
     },
     "execution_count": 106,
     "metadata": {},
     "output_type": "execute_result"
    }
   ],
   "source": [
    "# Adding method to foo()\n",
    "\n",
    "function foo(a::Float64, b::Float64)\n",
    "    println(\"Now I'm adding floats!\")\n",
    "    res = a + b\n",
    "    return res \n",
    "end"
   ]
  },
  {
   "cell_type": "code",
   "execution_count": 107,
   "metadata": {
    "slideshow": {
     "slide_type": "-"
    }
   },
   "outputs": [
    {
     "name": "stdout",
     "output_type": "stream",
     "text": [
      "Now I'm adding floats!\n"
     ]
    },
    {
     "data": {
      "text/plain": [
       "5.9"
      ]
     },
     "execution_count": 107,
     "metadata": {},
     "output_type": "execute_result"
    }
   ],
   "source": [
    "foo(3.1, 2.8)"
   ]
  },
  {
   "cell_type": "markdown",
   "metadata": {
    "slideshow": {
     "slide_type": "subslide"
    }
   },
   "source": [
    "### Using Concrete Types for Performance"
   ]
  },
  {
   "cell_type": "code",
   "execution_count": 108,
   "metadata": {
    "slideshow": {
     "slide_type": "-"
    }
   },
   "outputs": [
    {
     "data": {
      "text/plain": [
       "count_vals (generic function with 1 method)"
      ]
     },
     "execution_count": 108,
     "metadata": {},
     "output_type": "execute_result"
    }
   ],
   "source": [
    "function count_vals(v)\n",
    "    n = length(v)\n",
    "    cnts = Dict()\n",
    "    for i = 1:n\n",
    "        cnts[v[i]] = get(cnts,v[i], 0) + 1\n",
    "    end\n",
    "    return cnts\n",
    "end"
   ]
  },
  {
   "cell_type": "code",
   "execution_count": 110,
   "metadata": {
    "slideshow": {
     "slide_type": "-"
    }
   },
   "outputs": [
    {
     "name": "stdout",
     "output_type": "stream",
     "text": [
      "  0.698905 seconds (20.00 M allocations: 305.114 MiB, 1.20% gc time)\n"
     ]
    },
    {
     "data": {
      "text/plain": [
       "Dict{Any,Any} with 4 entries:\n",
       "  'g' => 2499542\n",
       "  'a' => 2502378\n",
       "  'c' => 2498021\n",
       "  't' => 2500059"
      ]
     },
     "execution_count": 110,
     "metadata": {},
     "output_type": "execute_result"
    }
   ],
   "source": [
    "x = rand(['a', 't', 'g', 'c'], 10_000_000)\n",
    "\n",
    "@time res = count_vals(x)"
   ]
  },
  {
   "cell_type": "code",
   "execution_count": 111,
   "metadata": {
    "slideshow": {
     "slide_type": "subslide"
    }
   },
   "outputs": [
    {
     "data": {
      "text/plain": [
       "count_vals2 (generic function with 2 methods)"
      ]
     },
     "execution_count": 111,
     "metadata": {},
     "output_type": "execute_result"
    }
   ],
   "source": [
    "function count_vals2(v)\n",
    "    n = length(v)\n",
    "    cnts = Dict{Char, Int}()\n",
    "    for i = 1:n\n",
    "        cnts[v[i]] = get(cnts,v[i], 0) + 1\n",
    "    end\n",
    "    return cnts\n",
    "end"
   ]
  },
  {
   "cell_type": "code",
   "execution_count": 112,
   "metadata": {
    "slideshow": {
     "slide_type": "-"
    }
   },
   "outputs": [
    {
     "name": "stdout",
     "output_type": "stream",
     "text": [
      "  1.227263 seconds (17.36 k allocations: 922.809 KiB)\n"
     ]
    },
    {
     "data": {
      "text/plain": [
       "Dict{Char,Int64} with 4 entries:\n",
       "  'g' => 24998218\n",
       "  'c' => 25003993\n",
       "  'a' => 25002737\n",
       "  't' => 24995052"
      ]
     },
     "execution_count": 112,
     "metadata": {},
     "output_type": "execute_result"
    }
   ],
   "source": [
    "x = rand(['a', 't', 'g', 'c'], 100_000_000)\n",
    "\n",
    "@time res = count_vals2(x)"
   ]
  },
  {
   "cell_type": "code",
   "execution_count": 113,
   "metadata": {
    "slideshow": {
     "slide_type": "subslide"
    }
   },
   "outputs": [
    {
     "data": {
      "text/plain": [
       "Dict{Any,Any} with 4 entries:\n",
       "  'g' => 250218\n",
       "  'c' => 249982\n",
       "  'a' => 249481\n",
       "  't' => 250319"
      ]
     },
     "execution_count": 113,
     "metadata": {},
     "output_type": "execute_result"
    }
   ],
   "source": [
    "function count_vals2(X::Matrix)\n",
    "    n, p = size(X)\n",
    "    cnts = Dict{Char, Int}()\n",
    "    for j = 1:p \n",
    "        for i = 1:n\n",
    "            cnts = get(cnts, X[i, j], 0) + 1\n",
    "        end\n",
    "    end\n",
    "    return cnts \n",
    "end \n",
    "\n",
    "A = rand(['a', 't', 'g', 'c'], 1000, 1000)\n",
    "\n",
    "count_vals(A) "
   ]
  },
  {
   "cell_type": "markdown",
   "metadata": {
    "slideshow": {
     "slide_type": "subslide"
    }
   },
   "source": [
    "## User-Defined Types \n",
    "\n",
    "1. User can define composite types (i.e., `struct`s)\n",
    "2. A `struct` can be mutable or immutable\n",
    "3. Immutable `struct`s are allocated on stack, mutable are on the heap"
   ]
  },
  {
   "cell_type": "code",
   "execution_count": 114,
   "metadata": {
    "slideshow": {
     "slide_type": "subslide"
    }
   },
   "outputs": [],
   "source": [
    "struct Dog\n",
    "    name \n",
    "    age \n",
    "    words\n",
    "end \n",
    "\n",
    "\n",
    "struct Cat\n",
    "    name\n",
    "    age\n",
    "    words\n",
    "end \n"
   ]
  },
  {
   "cell_type": "code",
   "execution_count": 115,
   "metadata": {
    "slideshow": {
     "slide_type": "subslide"
    }
   },
   "outputs": [
    {
     "name": "stdout",
     "output_type": "stream",
     "text": [
      "Woof, my name is William Lee, and I'm a dog.\n"
     ]
    }
   ],
   "source": [
    "\n",
    "function say_name(x::Dog)\n",
    "    s = \"$(x.words), my name is $(x.name), and I'm a dog.\"\n",
    "    println(s)\n",
    "end\n",
    "\n",
    "willie = Dog(\"William Lee\", 11, \"Woof\")    \n",
    "\n",
    "say_name(willie)"
   ]
  },
  {
   "cell_type": "code",
   "execution_count": 116,
   "metadata": {
    "slideshow": {
     "slide_type": "subslide"
    }
   },
   "outputs": [
    {
     "name": "stdout",
     "output_type": "stream",
     "text": [
      "Meow Meow Meow Meow Meow Meow Meow Meow Meow Meow "
     ]
    }
   ],
   "source": [
    "function say_name(x::Cat)\n",
    "    for i = 1:rand(1:10)\n",
    "        print(\"$(x.words) \")\n",
    "    end\n",
    "end\n",
    "\n",
    "ricky = Cat(\"Richard\", 7, \"Meow\")\n",
    "\n",
    "say_name(ricky)"
   ]
  },
  {
   "cell_type": "code",
   "execution_count": 119,
   "metadata": {
    "slideshow": {
     "slide_type": "subslide"
    }
   },
   "outputs": [
    {
     "data": {
      "text/plain": [
       "say_name (generic function with 3 methods)"
      ]
     },
     "execution_count": 119,
     "metadata": {},
     "output_type": "execute_result"
    }
   ],
   "source": [
    "# Example of multiple dispatch\n",
    "\n",
    "function say_name(x::Dog, y::Cat)\n",
    "    println(\"Two animals fight briefly...\\n\\nAnd the winner is: $(x.name)\")\n",
    "end "
   ]
  },
  {
   "cell_type": "code",
   "execution_count": 120,
   "metadata": {
    "slideshow": {
     "slide_type": "-"
    }
   },
   "outputs": [
    {
     "name": "stdout",
     "output_type": "stream",
     "text": [
      "Two animals fight briefly...\n",
      "\n",
      "And the winner is: William Lee\n"
     ]
    }
   ],
   "source": [
    "say_name(willy, ricky)"
   ]
  },
  {
   "cell_type": "code",
   "execution_count": 121,
   "metadata": {
    "slideshow": {
     "slide_type": "subslide"
    }
   },
   "outputs": [],
   "source": [
    "# Define new struct that is Dog/Cat hybrid\n",
    "\n",
    "struct Dat \n",
    "    name\n",
    "    age\n",
    "    words\n",
    "end "
   ]
  },
  {
   "cell_type": "markdown",
   "metadata": {
    "slideshow": {
     "slide_type": "subslide"
    }
   },
   "source": [
    "### Operator Overloading\n",
    "\n",
    "+ Can overload base language's operators (e.g., `+`, `*`, `/`)"
   ]
  },
  {
   "cell_type": "code",
   "execution_count": 122,
   "metadata": {
    "slideshow": {
     "slide_type": "-"
    }
   },
   "outputs": [
    {
     "data": {
      "text/plain": [
       "+ (generic function with 164 methods)"
      ]
     },
     "execution_count": 122,
     "metadata": {},
     "output_type": "execute_result"
    }
   ],
   "source": [
    "import Base.+ \n",
    "\n",
    "function +(x::Dog, y::Cat)\n",
    "    res = Dat(x.name, y.age, string(x.words, y.words))\n",
    "    return res \n",
    "end\n"
   ]
  },
  {
   "cell_type": "code",
   "execution_count": 123,
   "metadata": {
    "slideshow": {
     "slide_type": "-"
    }
   },
   "outputs": [
    {
     "data": {
      "text/plain": [
       "Dat(\"William Lee\", 7, \"WoofMeow\")"
      ]
     },
     "execution_count": 123,
     "metadata": {},
     "output_type": "execute_result"
    }
   ],
   "source": [
    "# Test our new method for +() function\n",
    "\n",
    "willy + ricky"
   ]
  },
  {
   "cell_type": "markdown",
   "metadata": {
    "slideshow": {
     "slide_type": "slide"
    }
   },
   "source": [
    "# <center> Profiling and Introspection </center>"
   ]
  },
  {
   "cell_type": "markdown",
   "metadata": {
    "slideshow": {
     "slide_type": "subslide"
    }
   },
   "source": [
    "1. Profiling Tools\n",
    "  * `@time` macro\n",
    "  * BenchmarkTools.jl package\n",
    "2. Introspection\n",
    "  * Type hierarchy \n",
    "  * `typeof()`\n",
    "  * `eltype()`\n",
    "  * `@code_warntype` \n",
    "  * `@code_native`"
   ]
  },
  {
   "cell_type": "code",
   "execution_count": null,
   "metadata": {
    "slideshow": {
     "slide_type": "subslide"
    }
   },
   "outputs": [],
   "source": [
    "# Illustrating type hierarchy \n",
    "\n",
    "Int32 <: Number"
   ]
  },
  {
   "cell_type": "code",
   "execution_count": null,
   "metadata": {
    "slideshow": {
     "slide_type": "fragment"
    }
   },
   "outputs": [],
   "source": [
    "BigInt <: Real"
   ]
  },
  {
   "cell_type": "code",
   "execution_count": null,
   "metadata": {
    "slideshow": {
     "slide_type": "fragment"
    }
   },
   "outputs": [],
   "source": [
    "Bool <: Int64"
   ]
  },
  {
   "cell_type": "code",
   "execution_count": null,
   "metadata": {
    "slideshow": {
     "slide_type": "fragment"
    }
   },
   "outputs": [],
   "source": [
    "Float64 <: AbstractFloat"
   ]
  },
  {
   "cell_type": "code",
   "execution_count": 124,
   "metadata": {
    "slideshow": {
     "slide_type": "subslide"
    }
   },
   "outputs": [
    {
     "data": {
      "text/plain": [
       "Array{Float64,1}"
      ]
     },
     "execution_count": 124,
     "metadata": {},
     "output_type": "execute_result"
    }
   ],
   "source": [
    "a = zeros(100)\n",
    "\n",
    "typeof(a)"
   ]
  },
  {
   "cell_type": "code",
   "execution_count": 125,
   "metadata": {},
   "outputs": [
    {
     "data": {
      "text/plain": [
       "Array{Float64,2}"
      ]
     },
     "execution_count": 125,
     "metadata": {},
     "output_type": "execute_result"
    }
   ],
   "source": [
    "A = ones(100, 100)\n",
    "\n",
    "typeof(A)"
   ]
  },
  {
   "cell_type": "code",
   "execution_count": 126,
   "metadata": {
    "slideshow": {
     "slide_type": "subslide"
    }
   },
   "outputs": [
    {
     "data": {
      "text/plain": [
       "Float64"
      ]
     },
     "execution_count": 126,
     "metadata": {},
     "output_type": "execute_result"
    }
   ],
   "source": [
    "# Get type of elements in containers\n",
    "\n",
    "b = randn(1000)\n",
    "\n",
    "eltype(b)"
   ]
  },
  {
   "cell_type": "code",
   "execution_count": 127,
   "metadata": {
    "slideshow": {
     "slide_type": "-"
    }
   },
   "outputs": [
    {
     "data": {
      "text/plain": [
       "(:name, :age, :words)"
      ]
     },
     "execution_count": 127,
     "metadata": {},
     "output_type": "execute_result"
    }
   ],
   "source": [
    "# Get fields of a struct\n",
    "\n",
    "fieldnames(Dog)"
   ]
  },
  {
   "cell_type": "code",
   "execution_count": null,
   "metadata": {
    "slideshow": {
     "slide_type": "subslide"
    }
   },
   "outputs": [],
   "source": [
    "function count_vals(v)\n",
    "    n = length(v)\n",
    "    cnts = Dict()\n",
    "    for i = 1:n\n",
    "        cnts[v[i]] = get(cnts,v[i], 0) + 1\n",
    "    end\n",
    "    return cnts\n",
    "end\n",
    "\n",
    "x = rand(['a', 't', 'g', 'c'], 100_000)\n",
    "\n",
    "@code_warntype count_vals(x)"
   ]
  },
  {
   "cell_type": "code",
   "execution_count": null,
   "metadata": {
    "slideshow": {
     "slide_type": "-"
    }
   },
   "outputs": [],
   "source": [
    "z = rand(['a', 't', 'g', 'c'], 100_000)\n",
    "\n",
    "@code_warntype count_vals2(z)"
   ]
  },
  {
   "cell_type": "markdown",
   "metadata": {
    "slideshow": {
     "slide_type": "slide"
    }
   },
   "source": [
    "# <center>Integration with other Languages</center>"
   ]
  },
  {
   "cell_type": "markdown",
   "metadata": {
    "slideshow": {
     "slide_type": "subslide"
    }
   },
   "source": [
    "## Julia and other Languages\n",
    "\n",
    "Julia has zero-cost interfaces with many technical computing languages:  \n",
    "1. PyCall.jl\n",
    "2. RCall.jl\n",
    "3. `ccall()`\n",
    "4. Cxx.jl\n",
    "5. Matlab.jl\n"
   ]
  },
  {
   "cell_type": "markdown",
   "metadata": {
    "slideshow": {
     "slide_type": "subslide"
    }
   },
   "source": [
    "### <center>Examples using RCall.jl and Cxx.jl</center>"
   ]
  },
  {
   "cell_type": "markdown",
   "metadata": {
    "slideshow": {
     "slide_type": "slide"
    }
   },
   "source": [
    "# <center> Tooling and Package Ecosystem </center>"
   ]
  },
  {
   "cell_type": "markdown",
   "metadata": {
    "slideshow": {
     "slide_type": "subslide"
    }
   },
   "source": [
    "1. Package manager\n",
    "  * GitHub\n",
    "  * Packages installed directly from Julia session using `Pkg.add(\"<PACKAGE-NAME>\")` \n",
    "2. Editors and IDEs\n",
    "  * Atom (Juno plugin)\n",
    "  * VS Code\n",
    "  * Emacs (ESS plugin)\n",
    "  * Jupyter\n",
    "  * Jupyter Lab"
   ]
  },
  {
   "cell_type": "markdown",
   "metadata": {
    "slideshow": {
     "slide_type": "slide"
    }
   },
   "source": [
    "# <center> Challenges </center>"
   ]
  },
  {
   "cell_type": "markdown",
   "metadata": {
    "slideshow": {
     "slide_type": "subslide"
    }
   },
   "source": [
    "1. Julia is still young\n",
    "  * Package ecosystem is still growing\n",
    "  * StackOverflow answers are a bit sparse\n",
    "  * Breaking changes still occur (mostly in packages, not base language)"
   ]
  }
 ],
 "metadata": {
  "celltoolbar": "Slideshow",
  "kernelspec": {
   "display_name": "Julia 1.1.1",
   "language": "julia",
   "name": "julia-1.1"
  },
  "language_info": {
   "file_extension": ".jl",
   "mimetype": "application/julia",
   "name": "julia",
   "version": "1.1.1"
  }
 },
 "nbformat": 4,
 "nbformat_minor": 2
}
